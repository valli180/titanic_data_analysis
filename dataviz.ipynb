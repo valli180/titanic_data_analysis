{
 "cells": [
  {
   "cell_type": "code",
   "execution_count": 1,
   "id": "f9c5417a-95e3-4d7b-967f-137b891b3133",
   "metadata": {},
   "outputs": [],
   "source": [
    "import pandas as pd\n",
    "import numpy as np\n",
    "import matplotlib.pyplot as plt\n",
    "import seaborn as sns\n",
    "import altair as alt"
   ]
  },
  {
   "cell_type": "markdown",
   "id": "980e5c45-0de6-4472-9b2f-536c80c595fb",
   "metadata": {},
   "source": [
    "### Learning Data Viz techniques from an online class"
   ]
  },
  {
   "cell_type": "code",
   "execution_count": 2,
   "id": "7458907a-b749-41d9-be24-5896ef1a42e4",
   "metadata": {},
   "outputs": [
    {
     "data": {
      "text/html": [
       "<div>\n",
       "<style scoped>\n",
       "    .dataframe tbody tr th:only-of-type {\n",
       "        vertical-align: middle;\n",
       "    }\n",
       "\n",
       "    .dataframe tbody tr th {\n",
       "        vertical-align: top;\n",
       "    }\n",
       "\n",
       "    .dataframe thead th {\n",
       "        text-align: right;\n",
       "    }\n",
       "</style>\n",
       "<table border=\"1\" class=\"dataframe\">\n",
       "  <thead>\n",
       "    <tr style=\"text-align: right;\">\n",
       "      <th></th>\n",
       "      <th>pclass</th>\n",
       "      <th>survived</th>\n",
       "      <th>name</th>\n",
       "      <th>sex</th>\n",
       "      <th>age</th>\n",
       "      <th>sibsp</th>\n",
       "      <th>parch</th>\n",
       "      <th>ticket</th>\n",
       "      <th>fare</th>\n",
       "      <th>cabin</th>\n",
       "      <th>embarked</th>\n",
       "      <th>boat</th>\n",
       "      <th>body</th>\n",
       "      <th>home.dest</th>\n",
       "    </tr>\n",
       "  </thead>\n",
       "  <tbody>\n",
       "    <tr>\n",
       "      <th>0</th>\n",
       "      <td>1</td>\n",
       "      <td>1</td>\n",
       "      <td>Allen, Miss. Elisabeth Walton</td>\n",
       "      <td>female</td>\n",
       "      <td>29.0000</td>\n",
       "      <td>0</td>\n",
       "      <td>0</td>\n",
       "      <td>24160</td>\n",
       "      <td>211.3375</td>\n",
       "      <td>B5</td>\n",
       "      <td>S</td>\n",
       "      <td>2</td>\n",
       "      <td>NaN</td>\n",
       "      <td>St Louis, MO</td>\n",
       "    </tr>\n",
       "    <tr>\n",
       "      <th>1</th>\n",
       "      <td>1</td>\n",
       "      <td>1</td>\n",
       "      <td>Allison, Master. Hudson Trevor</td>\n",
       "      <td>male</td>\n",
       "      <td>0.9167</td>\n",
       "      <td>1</td>\n",
       "      <td>2</td>\n",
       "      <td>113781</td>\n",
       "      <td>151.5500</td>\n",
       "      <td>C22 C26</td>\n",
       "      <td>S</td>\n",
       "      <td>11</td>\n",
       "      <td>NaN</td>\n",
       "      <td>Montreal, PQ / Chesterville, ON</td>\n",
       "    </tr>\n",
       "    <tr>\n",
       "      <th>2</th>\n",
       "      <td>1</td>\n",
       "      <td>0</td>\n",
       "      <td>Allison, Miss. Helen Loraine</td>\n",
       "      <td>female</td>\n",
       "      <td>2.0000</td>\n",
       "      <td>1</td>\n",
       "      <td>2</td>\n",
       "      <td>113781</td>\n",
       "      <td>151.5500</td>\n",
       "      <td>C22 C26</td>\n",
       "      <td>S</td>\n",
       "      <td>NaN</td>\n",
       "      <td>NaN</td>\n",
       "      <td>Montreal, PQ / Chesterville, ON</td>\n",
       "    </tr>\n",
       "    <tr>\n",
       "      <th>3</th>\n",
       "      <td>1</td>\n",
       "      <td>0</td>\n",
       "      <td>Allison, Mr. Hudson Joshua Creighton</td>\n",
       "      <td>male</td>\n",
       "      <td>30.0000</td>\n",
       "      <td>1</td>\n",
       "      <td>2</td>\n",
       "      <td>113781</td>\n",
       "      <td>151.5500</td>\n",
       "      <td>C22 C26</td>\n",
       "      <td>S</td>\n",
       "      <td>NaN</td>\n",
       "      <td>135.0</td>\n",
       "      <td>Montreal, PQ / Chesterville, ON</td>\n",
       "    </tr>\n",
       "    <tr>\n",
       "      <th>4</th>\n",
       "      <td>1</td>\n",
       "      <td>0</td>\n",
       "      <td>Allison, Mrs. Hudson J C (Bessie Waldo Daniels)</td>\n",
       "      <td>female</td>\n",
       "      <td>25.0000</td>\n",
       "      <td>1</td>\n",
       "      <td>2</td>\n",
       "      <td>113781</td>\n",
       "      <td>151.5500</td>\n",
       "      <td>C22 C26</td>\n",
       "      <td>S</td>\n",
       "      <td>NaN</td>\n",
       "      <td>NaN</td>\n",
       "      <td>Montreal, PQ / Chesterville, ON</td>\n",
       "    </tr>\n",
       "  </tbody>\n",
       "</table>\n",
       "</div>"
      ],
      "text/plain": [
       "   pclass  survived                                             name     sex  \\\n",
       "0       1         1                    Allen, Miss. Elisabeth Walton  female   \n",
       "1       1         1                   Allison, Master. Hudson Trevor    male   \n",
       "2       1         0                     Allison, Miss. Helen Loraine  female   \n",
       "3       1         0             Allison, Mr. Hudson Joshua Creighton    male   \n",
       "4       1         0  Allison, Mrs. Hudson J C (Bessie Waldo Daniels)  female   \n",
       "\n",
       "       age  sibsp  parch  ticket      fare    cabin embarked boat   body  \\\n",
       "0  29.0000      0      0   24160  211.3375       B5        S    2    NaN   \n",
       "1   0.9167      1      2  113781  151.5500  C22 C26        S   11    NaN   \n",
       "2   2.0000      1      2  113781  151.5500  C22 C26        S  NaN    NaN   \n",
       "3  30.0000      1      2  113781  151.5500  C22 C26        S  NaN  135.0   \n",
       "4  25.0000      1      2  113781  151.5500  C22 C26        S  NaN    NaN   \n",
       "\n",
       "                         home.dest  \n",
       "0                     St Louis, MO  \n",
       "1  Montreal, PQ / Chesterville, ON  \n",
       "2  Montreal, PQ / Chesterville, ON  \n",
       "3  Montreal, PQ / Chesterville, ON  \n",
       "4  Montreal, PQ / Chesterville, ON  "
      ]
     },
     "execution_count": 2,
     "metadata": {},
     "output_type": "execute_result"
    }
   ],
   "source": [
    "df = pd.read_csv(\"titanic.csv\")\n",
    "df.head()"
   ]
  },
  {
   "cell_type": "code",
   "execution_count": 3,
   "id": "bd3b1301-90e4-478d-941b-c72096226705",
   "metadata": {},
   "outputs": [
    {
     "data": {
      "text/plain": [
       "0    809\n",
       "1    500\n",
       "Name: survived, dtype: int64"
      ]
     },
     "execution_count": 3,
     "metadata": {},
     "output_type": "execute_result"
    }
   ],
   "source": [
    "df[\"survived\"].value_counts()"
   ]
  },
  {
   "cell_type": "code",
   "execution_count": 4,
   "id": "fc90a74b-a1d4-4f4f-a101-6ac1de15f837",
   "metadata": {},
   "outputs": [
    {
     "data": {
      "text/plain": [
       "pclass          0\n",
       "survived        0\n",
       "name            0\n",
       "sex             0\n",
       "age           263\n",
       "sibsp           0\n",
       "parch           0\n",
       "ticket          0\n",
       "fare            1\n",
       "cabin        1014\n",
       "embarked        2\n",
       "boat          823\n",
       "body         1188\n",
       "home.dest     564\n",
       "dtype: int64"
      ]
     },
     "execution_count": 4,
     "metadata": {},
     "output_type": "execute_result"
    }
   ],
   "source": [
    "df.isnull().sum()"
   ]
  },
  {
   "cell_type": "code",
   "execution_count": 5,
   "id": "000f9215-437c-4963-b4ed-0c5a483b5b11",
   "metadata": {},
   "outputs": [
    {
     "name": "stdout",
     "output_type": "stream",
     "text": [
      "<class 'pandas.core.frame.DataFrame'>\n",
      "RangeIndex: 1309 entries, 0 to 1308\n",
      "Data columns (total 14 columns):\n",
      " #   Column     Non-Null Count  Dtype  \n",
      "---  ------     --------------  -----  \n",
      " 0   pclass     1309 non-null   int64  \n",
      " 1   survived   1309 non-null   int64  \n",
      " 2   name       1309 non-null   object \n",
      " 3   sex        1309 non-null   object \n",
      " 4   age        1046 non-null   float64\n",
      " 5   sibsp      1309 non-null   int64  \n",
      " 6   parch      1309 non-null   int64  \n",
      " 7   ticket     1309 non-null   object \n",
      " 8   fare       1308 non-null   float64\n",
      " 9   cabin      295 non-null    object \n",
      " 10  embarked   1307 non-null   object \n",
      " 11  boat       486 non-null    object \n",
      " 12  body       121 non-null    float64\n",
      " 13  home.dest  745 non-null    object \n",
      "dtypes: float64(3), int64(4), object(7)\n",
      "memory usage: 143.3+ KB\n"
     ]
    }
   ],
   "source": [
    "df.info()"
   ]
  },
  {
   "cell_type": "code",
   "execution_count": 6,
   "id": "6b22bf06-cd42-491b-976f-bb6551c07380",
   "metadata": {},
   "outputs": [
    {
     "data": {
      "text/plain": [
       "<AxesSubplot:>"
      ]
     },
     "execution_count": 6,
     "metadata": {},
     "output_type": "execute_result"
    },
    {
     "data": {
      "image/png": "[encoded data removed]",
      "text/plain": [
       "<Figure size 432x288 with 1 Axes>"
      ]
     },
     "metadata": {
      "needs_background": "light"
     },
     "output_type": "display_data"
    }
   ],
   "source": [
    "sns.heatmap(df.isnull(), yticklabels=False, cbar= False, cmap ='viridis' )"
   ]
  },
  {
   "cell_type": "markdown",
   "id": "d2f7947f-8794-4bdb-9b98-4d2717d4442a",
   "metadata": {},
   "source": [
    "- Most of the missing is in the age, cabin, boat, body and home.dest column"
   ]
  },
  {
   "cell_type": "code",
   "execution_count": 7,
   "id": "2c6ce685-e04a-4688-9b4f-24d729456ae8",
   "metadata": {},
   "outputs": [
    {
     "data": {
      "text/plain": [
       "<AxesSubplot:xlabel='survived', ylabel='count'>"
      ]
     },
     "execution_count": 7,
     "metadata": {},
     "output_type": "execute_result"
    },
    {
     "data": {
      "image/png": "[encoded data removed]",
      "text/plain": [
       "<Figure size 432x288 with 1 Axes>"
      ]
     },
     "metadata": {
      "needs_background": "light"
     },
     "output_type": "display_data"
    }
   ],
   "source": [
    "sns.countplot(x=df[\"survived\"], hue= df[\"sex\"], palette = \"ocean\")"
   ]
  },
  {
   "cell_type": "markdown",
   "id": "5f31839a-53c0-4f2a-9e71-c88cacced413",
   "metadata": {},
   "source": [
    "- We can observe that the more number of female have survived than males.\n",
    "- Also, among the deceased, there were more men than women."
   ]
  },
  {
   "cell_type": "code",
   "execution_count": 8,
   "id": "99cf6af8-11d0-42da-a60f-4fb3fbb80c2f",
   "metadata": {},
   "outputs": [
    {
     "data": {
      "text/plain": [
       "<AxesSubplot:xlabel='survived', ylabel='count'>"
      ]
     },
     "execution_count": 8,
     "metadata": {},
     "output_type": "execute_result"
    },
    {
     "data": {
      "image/png": "[encoded data removed]",
      "text/plain": [
       "<Figure size 432x288 with 1 Axes>"
      ]
     },
     "metadata": {
      "needs_background": "light"
     },
     "output_type": "display_data"
    }
   ],
   "source": [
    "sns.countplot(x=df[\"survived\"], hue= df[\"pclass\"], palette = \"inferno\")"
   ]
  },
  {
   "cell_type": "code",
   "execution_count": 9,
   "id": "c5bf1c81-b5a5-4d46-8885-03785c1412f2",
   "metadata": {},
   "outputs": [
    {
     "data": {
      "text/plain": [
       "<seaborn.axisgrid.FacetGrid at 0x16f5a2970>"
      ]
     },
     "execution_count": 9,
     "metadata": {},
     "output_type": "execute_result"
    },
    {
     "data": {
      "image/png": "[encoded data removed]",
      "text/plain": [
       "<Figure size 360x360 with 1 Axes>"
      ]
     },
     "metadata": {
      "needs_background": "light"
     },
     "output_type": "display_data"
    }
   ],
   "source": [
    "sns.displot(x = df[\"age\"].dropna(), kde = False, bins =40)"
   ]
  },
  {
   "cell_type": "markdown",
   "id": "100d2455-b064-4e8f-b914-c665f3ec2e6f",
   "metadata": {},
   "source": [
    "- We see that the age ranges from 0 to 80, with most of them belonging to the age group 20-50.\n",
    "- The maximum number of people belong to the age group of 25 to 30."
   ]
  },
  {
   "cell_type": "code",
   "execution_count": 10,
   "id": "8c88c16b-2ced-4dd9-880f-079f45b02198",
   "metadata": {},
   "outputs": [],
   "source": [
    "df[\"age_category\"] = pd.cut(\n",
    "    df.age, \n",
    "    bins = [0,10,20,30,40,50,60,70,80], \n",
    "    labels = [\"kids\", \"teenager\", \"young\", \"middle_aged\", \"upper middle\", \"old\", \"very_old\", \"senior\"], ordered= True)"
   ]
  },
  {
   "cell_type": "code",
   "execution_count": 12,
   "id": "3c0354d6-cdb0-4b9b-b884-ab416ae08578",
   "metadata": {},
   "outputs": [
    {
     "data": {
      "image/png": "[encoded data removed]",
      "text/plain": [
       "<Figure size 1800x576 with 1 Axes>"
      ]
     },
     "metadata": {
      "needs_background": "light"
     },
     "output_type": "display_data"
    }
   ],
   "source": [
    "plt.figure(figsize = (25,8))\n",
    "ax = sns.countplot(x=df[\"age_category\"], data=df, hue= \"survived\", palette = \"YlOrBr\")\n"
   ]
  },
  {
   "cell_type": "markdown",
   "id": "6794aaa1-dcc9-46e6-a2f8-de935538c88e",
   "metadata": {},
   "source": [
    "- We observe that the majority of the people who did not survive are between the age group 20 to 30 followed by people in the age group 30-40. However, these are the counts and not percentages or proportions"
   ]
  },
  {
   "cell_type": "markdown",
   "id": "d6d21cc1-aceb-4685-a85c-d71304572657",
   "metadata": {},
   "source": [
    "#### Considering the proportions of people belonging to different age groups who survived "
   ]
  },
  {
   "cell_type": "code",
   "execution_count": 13,
   "id": "baa4910f-78ed-4fdb-8092-09d4100827b3",
   "metadata": {},
   "outputs": [],
   "source": [
    "temp_df = df.groupby(\"age_category\")[\"survived\"].sum().reset_index()"
   ]
  },
  {
   "cell_type": "code",
   "execution_count": 16,
   "id": "761220b5-e07c-4d1d-92e7-0178a73cc98c",
   "metadata": {},
   "outputs": [],
   "source": [
    "temp_df2 = df.groupby(\"age_category\").size().reset_index()\n"
   ]
  },
  {
   "cell_type": "code",
   "execution_count": 17,
   "id": "74daccdc-2442-47c0-819d-a239cbd2ec4b",
   "metadata": {},
   "outputs": [],
   "source": [
    "final_temp = pd.merge(\n",
    "    temp_df, \n",
    "    temp_df2, \n",
    "    on = \"age_category\",\n",
    "    how= 'inner'\n",
    ")"
   ]
  },
  {
   "cell_type": "code",
   "execution_count": 18,
   "id": "65895b5d-aa11-4ce8-8db6-79481509bebe",
   "metadata": {},
   "outputs": [],
   "source": [
    "#final_temp['prop_survived'] = final_temp[\"survived\"]/ final_temp[0]\n",
    "#final_temp"
   ]
  },
  {
   "cell_type": "code",
   "execution_count": 19,
   "id": "ab9f8ba2-dcb7-47c0-87d7-c3efb5598abb",
   "metadata": {},
   "outputs": [],
   "source": [
    "#temp = df.groupby(\"survived\")[\"age_category\"].value_counts()"
   ]
  },
  {
   "cell_type": "code",
   "execution_count": 20,
   "id": "f6de740c-86b4-405f-a8cb-8ce48ccc414d",
   "metadata": {},
   "outputs": [],
   "source": [
    "final_temp = final_temp.melt(id_vars = \"age_category\")"
   ]
  },
  {
   "cell_type": "code",
   "execution_count": 21,
   "id": "0518ad2f-c211-42ed-8e52-8e31cc100982",
   "metadata": {},
   "outputs": [
    {
     "data": {
      "text/plain": [
       "<AxesSubplot:xlabel='age_category', ylabel='value'>"
      ]
     },
     "execution_count": 21,
     "metadata": {},
     "output_type": "execute_result"
    },
    {
     "data": {
      "image/png": "[encoded data removed]",
      "text/plain": [
       "<Figure size 864x576 with 1 Axes>"
      ]
     },
     "metadata": {
      "needs_background": "light"
     },
     "output_type": "display_data"
    }
   ],
   "source": [
    "plt.figure(figsize =(12,8))\n",
    "sns.barplot(data = final_temp, x=\"age_category\",y=\"value\", hue=\"variable\")"
   ]
  },
  {
   "cell_type": "markdown",
   "id": "3044e0ea-09ad-47b2-9a66-d4f0ed7de0f3",
   "metadata": {},
   "source": [
    "- This shows that maximum number of people in the ship belonged to the young catgeory and most of the people who survived alo belong to the same category, but the survived people do not account not even 50% of the total in that group.\n",
    "- More than half of the kids have survived. \n",
    "- Very few people belonging to the very_old category have survived.\n",
    "- Rest all categories approximately half of them were rescued.\n"
   ]
  },
  {
   "cell_type": "markdown",
   "id": "af99c3c8-d6fc-4d8e-9393-ce32baf8f717",
   "metadata": {},
   "source": [
    "### Analyzing Fare"
   ]
  },
  {
   "cell_type": "code",
   "execution_count": 26,
   "id": "00f0d36d-ee94-4f10-8943-249803d23472",
   "metadata": {},
   "outputs": [
    {
     "data": {
      "text/plain": [
       "<AxesSubplot:>"
      ]
     },
     "execution_count": 26,
     "metadata": {},
     "output_type": "execute_result"
    },
    {
     "data": {
      "image/png": "[encoded data removed]",
      "text/plain": [
       "<Figure size 432x288 with 1 Axes>"
      ]
     },
     "metadata": {
      "needs_background": "light"
     },
     "output_type": "display_data"
    }
   ],
   "source": [
    "sns.distplot(x = df[\"fare\"].dropna(), kde = False, bins = 20)"
   ]
  },
  {
   "cell_type": "code",
   "execution_count": 36,
   "id": "06be1acb-c8a6-4473-9c07-42fde71ce828",
   "metadata": {},
   "outputs": [],
   "source": [
    "temp_df_p_class = df.groupby(\"pclass\")[\"survived\"].sum().reset_index()"
   ]
  },
  {
   "cell_type": "code",
   "execution_count": 39,
   "id": "f9bd843e-546a-443f-a088-d021a4921b6f",
   "metadata": {},
   "outputs": [],
   "source": [
    "temp_p_class_total = df.groupby(\"pclass\").size().reset_index()"
   ]
  },
  {
   "cell_type": "code",
   "execution_count": 40,
   "id": "798b7add-ecfe-4094-98cf-ba64999b4d81",
   "metadata": {},
   "outputs": [],
   "source": [
    "final_temp_p_class = pd.merge(\n",
    "    temp_df_p_class, \n",
    "    temp_p_class_total, \n",
    "    on = \"pclass\",\n",
    "    how= 'inner'\n",
    ")"
   ]
  },
  {
   "cell_type": "code",
   "execution_count": 41,
   "id": "8434089e-f137-4b9c-90de-0d3350beca90",
   "metadata": {},
   "outputs": [
    {
     "data": {
      "text/html": [
       "<div>\n",
       "<style scoped>\n",
       "    .dataframe tbody tr th:only-of-type {\n",
       "        vertical-align: middle;\n",
       "    }\n",
       "\n",
       "    .dataframe tbody tr th {\n",
       "        vertical-align: top;\n",
       "    }\n",
       "\n",
       "    .dataframe thead th {\n",
       "        text-align: right;\n",
       "    }\n",
       "</style>\n",
       "<table border=\"1\" class=\"dataframe\">\n",
       "  <thead>\n",
       "    <tr style=\"text-align: right;\">\n",
       "      <th></th>\n",
       "      <th>pclass</th>\n",
       "      <th>survived</th>\n",
       "      <th>0</th>\n",
       "    </tr>\n",
       "  </thead>\n",
       "  <tbody>\n",
       "    <tr>\n",
       "      <th>0</th>\n",
       "      <td>1</td>\n",
       "      <td>200</td>\n",
       "      <td>323</td>\n",
       "    </tr>\n",
       "    <tr>\n",
       "      <th>1</th>\n",
       "      <td>2</td>\n",
       "      <td>119</td>\n",
       "      <td>277</td>\n",
       "    </tr>\n",
       "    <tr>\n",
       "      <th>2</th>\n",
       "      <td>3</td>\n",
       "      <td>181</td>\n",
       "      <td>709</td>\n",
       "    </tr>\n",
       "  </tbody>\n",
       "</table>\n",
       "</div>"
      ],
      "text/plain": [
       "   pclass  survived    0\n",
       "0       1       200  323\n",
       "1       2       119  277\n",
       "2       3       181  709"
      ]
     },
     "execution_count": 41,
     "metadata": {},
     "output_type": "execute_result"
    }
   ],
   "source": [
    "final_temp_p_class"
   ]
  },
  {
   "cell_type": "code",
   "execution_count": 43,
   "id": "e5c82c8a-cfd1-4bec-a3a9-fac58e65516d",
   "metadata": {},
   "outputs": [],
   "source": [
    "final_temp_p_class = final_temp_p_class.melt(id_vars = \"pclass\")"
   ]
  },
  {
   "cell_type": "code",
   "execution_count": 44,
   "id": "6dd72f9d-9ab7-4822-9c2d-2c2a6be8026f",
   "metadata": {},
   "outputs": [
    {
     "data": {
      "text/plain": [
       "<AxesSubplot:xlabel='pclass', ylabel='value'>"
      ]
     },
     "execution_count": 44,
     "metadata": {},
     "output_type": "execute_result"
    },
    {
     "data": {
      "image/png": "[encoded data removed]",
      "text/plain": [
       "<Figure size 864x576 with 1 Axes>"
      ]
     },
     "metadata": {
      "needs_background": "light"
     },
     "output_type": "display_data"
    }
   ],
   "source": [
    "plt.figure(figsize =(12,8))\n",
    "sns.barplot(data = final_temp_p_class, x=\"pclass\",y=\"value\", hue=\"variable\")"
   ]
  },
  {
   "cell_type": "markdown",
   "id": "ff5b13f4-3c64-454e-9933-b42419637107",
   "metadata": {},
   "source": [
    "- We can observe that most of the people belonging to the class 1 have been recused\n",
    "- 50% of the people belonging to the class 2 have survived\n",
    "- Most of the people belonging to the class 3 have not been able to survive."
   ]
  },
  {
   "cell_type": "markdown",
   "id": "c6d0162e-c24b-4717-b56d-e942b60ce4a7",
   "metadata": {},
   "source": [
    "### Age vs pclass"
   ]
  },
  {
   "cell_type": "code",
   "execution_count": 47,
   "id": "272f431b-bc6a-4987-88f2-e5d06553201a",
   "metadata": {},
   "outputs": [
    {
     "data": {
      "text/plain": [
       "<AxesSubplot:xlabel='pclass', ylabel='age'>"
      ]
     },
     "execution_count": 47,
     "metadata": {},
     "output_type": "execute_result"
    },
    {
     "data": {
      "image/png": "[encoded data removed]",
      "text/plain": [
       "<Figure size 864x576 with 1 Axes>"
      ]
     },
     "metadata": {
      "needs_background": "light"
     },
     "output_type": "display_data"
    }
   ],
   "source": [
    "plt.figure(figsize=(12,8))\n",
    "sns.boxplot(x = \"pclass\", y=\"age\", data = df)"
   ]
  },
  {
   "cell_type": "markdown",
   "id": "4e6cdb48-c480-434a-bfb9-8416e5e09151",
   "metadata": {},
   "source": [
    "- Most of the people belonging to the class 1 are from 30 to 50 year of age, however total range is wider than other two classes.\n",
    "- The median age of people belonging to class 3 is less than that of class 2\n",
    "- There are many outliers for the class 2 and class 3"
   ]
  },
  {
   "cell_type": "code",
   "execution_count": null,
   "id": "c8822537-cf19-4943-ae55-bfc9571201c8",
   "metadata": {},
   "outputs": [],
   "source": []
  }
 ],
 "metadata": {
  "kernelspec": {
   "display_name": "Python [conda env:573]",
   "language": "python",
   "name": "conda-env-573-py"
  },
  "language_info": {
   "codemirror_mode": {
    "name": "ipython",
    "version": 3
   },
   "file_extension": ".py",
   "mimetype": "text/x-python",
   "name": "python",
   "nbconvert_exporter": "python",
   "pygments_lexer": "ipython3",
   "version": "3.9.9"
  }
 },
 "nbformat": 4,
 "nbformat_minor": 5
}
